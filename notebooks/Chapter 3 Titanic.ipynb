{
 "cells": [
  {
   "cell_type": "code",
   "execution_count": 48,
   "metadata": {},
   "outputs": [
    {
     "name": "stdout",
     "output_type": "stream",
     "text": [
      "Requirement already satisfied: kaggle in c:\\users\\jatingupta\\appdata\\local\\continuum\\anaconda3\\lib\\site-packages (1.4.7.1)\n",
      "Requirement already satisfied: certifi in c:\\users\\jatingupta\\appdata\\local\\continuum\\anaconda3\\lib\\site-packages (from kaggle) (2018.8.24)\n",
      "Requirement already satisfied: python-slugify in c:\\users\\jatingupta\\appdata\\local\\continuum\\anaconda3\\lib\\site-packages (from kaggle) (1.2.6)\n",
      "Requirement already satisfied: python-dateutil in c:\\users\\jatingupta\\appdata\\local\\continuum\\anaconda3\\lib\\site-packages (from kaggle) (2.7.3)\n",
      "Requirement already satisfied: requests in c:\\users\\jatingupta\\appdata\\local\\continuum\\anaconda3\\lib\\site-packages (from kaggle) (2.19.1)\n",
      "Requirement already satisfied: urllib3<1.23.0,>=1.15 in c:\\users\\jatingupta\\appdata\\local\\continuum\\anaconda3\\lib\\site-packages (from kaggle) (1.22)\n",
      "Requirement already satisfied: tqdm in c:\\users\\jatingupta\\appdata\\local\\continuum\\anaconda3\\lib\\site-packages (from kaggle) (4.26.0)\n",
      "Requirement already satisfied: six>=1.10 in c:\\users\\jatingupta\\appdata\\local\\continuum\\anaconda3\\lib\\site-packages (from kaggle) (1.11.0)\n",
      "Requirement already satisfied: Unidecode>=0.04.16 in c:\\users\\jatingupta\\appdata\\local\\continuum\\anaconda3\\lib\\site-packages (from python-slugify->kaggle) (1.0.22)\n",
      "Requirement already satisfied: idna<2.8,>=2.5 in c:\\users\\jatingupta\\appdata\\local\\continuum\\anaconda3\\lib\\site-packages (from requests->kaggle) (2.7)\n",
      "Requirement already satisfied: chardet<3.1.0,>=3.0.2 in c:\\users\\jatingupta\\appdata\\local\\continuum\\anaconda3\\lib\\site-packages (from requests->kaggle) (3.0.4)\n"
     ]
    }
   ],
   "source": [
    "!pip install kaggle"
   ]
  },
  {
   "cell_type": "code",
   "execution_count": null,
   "metadata": {},
   "outputs": [],
   "source": [
    "# find .kaggle folder and paste the api key json file in it. Get api key json file from kaggle > my account > create api token "
   ]
  },
  {
   "cell_type": "code",
   "execution_count": 50,
   "metadata": {},
   "outputs": [
    {
     "name": "stdout",
     "output_type": "stream",
     "text": [
      "ref                                            deadline             category            reward  teamCount  userHasEntered  \n",
      "---------------------------------------------  -------------------  ---------------  ---------  ---------  --------------  \n",
      "digit-recognizer                               2030-01-01 00:00:00  Getting Started  Knowledge       2619           False  \n",
      "titanic                                        2030-01-01 00:00:00  Getting Started  Knowledge       9828            True  \n",
      "house-prices-advanced-regression-techniques    2030-01-01 00:00:00  Getting Started  Knowledge       4095           False  \n",
      "imagenet-object-localization-challenge         2029-12-31 07:00:00  Research         Knowledge         26           False  \n",
      "pubg-finish-placement-prediction               2019-01-30 23:59:00  Playground            Swag        420           False  \n",
      "human-protein-atlas-image-classification       2019-01-10 23:59:00  Featured           $37,000        238           False  \n",
      "two-sigma-financial-news                       2019-01-08 23:59:00  Featured          $100,000        747           False  \n",
      "competitive-data-science-predict-future-sales  2019-01-01 23:59:00  Playground           Kudos       1573           False  \n",
      "PLAsTiCC-2018                                  2018-12-17 23:59:00  Featured           $25,000        211           False  \n",
      "quickdraw-doodle-recognition                   2018-12-04 23:59:00  Featured           $25,000        246           False  \n",
      "ga-customer-revenue-prediction                 2018-11-15 23:59:00  Featured           $45,000       2427           False  \n",
      "airbus-ship-detection                          2018-11-14 23:59:00  Featured           $60,000        177           False  \n",
      "inclusive-images-challenge                     2018-11-05 23:59:00  Research           $25,000        353           False  \n",
      "rsna-pneumonia-detection-challenge             2018-10-24 23:59:00  Featured           $30,000       1270           False  \n",
      "tgs-salt-identification-challenge              2018-10-19 23:59:00  Featured          $100,000       3146           False  \n",
      "new-york-city-taxi-fare-prediction             2018-09-25 23:59:00  Playground       Knowledge       1488           False  \n",
      "forest-cover-type-kernels-only                 2018-09-24 23:59:00  Playground       Knowledge        359           False  \n",
      "demand-forecasting-kernels-only                2018-09-24 23:59:00  Playground       Knowledge        462           False  \n",
      "whats-cooking-kernels-only                     2018-09-24 23:59:00  Playground       Knowledge        523           False  \n",
      "flavours-of-physics-kernels-only               2018-09-24 23:59:00  Playground       Knowledge         64           False  \n"
     ]
    }
   ],
   "source": [
    "!kaggle competitions list\n"
   ]
  },
  {
   "cell_type": "code",
   "execution_count": 53,
   "metadata": {},
   "outputs": [
    {
     "name": "stdout",
     "output_type": "stream",
     "text": [
      "train.csv: Skipping, found more recently modified local copy (use --force to force download)\n",
      "test.csv: Skipping, found more recently modified local copy (use --force to force download)\n",
      "gender_submission.csv: Skipping, found more recently modified local copy (use --force to force download)\n"
     ]
    }
   ],
   "source": [
    "# before downloading the file, accept the terms on the kaggle website\n",
    "!kaggle competitions download titanic"
   ]
  },
  {
   "cell_type": "code",
   "execution_count": 52,
   "metadata": {},
   "outputs": [
    {
     "ename": "Error",
     "evalue": "Destination path '../data/raw/gender_submission.csv' already exists",
     "output_type": "error",
     "traceback": [
      "\u001b[1;31m---------------------------------------------------------------------------\u001b[0m",
      "\u001b[1;31mError\u001b[0m                                     Traceback (most recent call last)",
      "\u001b[1;32m<ipython-input-52-95f62c28515f>\u001b[0m in \u001b[0;36m<module>\u001b[1;34m()\u001b[0m\n\u001b[0;32m     10\u001b[0m \u001b[1;32mfor\u001b[0m \u001b[0mf\u001b[0m \u001b[1;32min\u001b[0m \u001b[0mfiles\u001b[0m\u001b[1;33m:\u001b[0m\u001b[1;33m\u001b[0m\u001b[0m\n\u001b[0;32m     11\u001b[0m     \u001b[1;32mif\u001b[0m\u001b[1;33m(\u001b[0m\u001b[0mf\u001b[0m\u001b[1;33m.\u001b[0m\u001b[0mfind\u001b[0m\u001b[1;33m(\u001b[0m\u001b[1;34m'.csv'\u001b[0m\u001b[1;33m)\u001b[0m \u001b[1;33m!=\u001b[0m \u001b[1;33m-\u001b[0m\u001b[1;36m1\u001b[0m\u001b[1;33m)\u001b[0m\u001b[1;33m:\u001b[0m\u001b[1;33m\u001b[0m\u001b[0m\n\u001b[1;32m---> 12\u001b[1;33m         \u001b[0mshutil\u001b[0m\u001b[1;33m.\u001b[0m\u001b[0mmove\u001b[0m\u001b[1;33m(\u001b[0m\u001b[0msource\u001b[0m\u001b[1;33m+\u001b[0m\u001b[0mf\u001b[0m\u001b[1;33m,\u001b[0m \u001b[0mdest1\u001b[0m\u001b[1;33m)\u001b[0m\u001b[1;33m\u001b[0m\u001b[0m\n\u001b[0m",
      "\u001b[1;32m~\\AppData\\Local\\Continuum\\anaconda3\\lib\\shutil.py\u001b[0m in \u001b[0;36mmove\u001b[1;34m(src, dst, copy_function)\u001b[0m\n\u001b[0;32m    553\u001b[0m         \u001b[0mreal_dst\u001b[0m \u001b[1;33m=\u001b[0m \u001b[0mos\u001b[0m\u001b[1;33m.\u001b[0m\u001b[0mpath\u001b[0m\u001b[1;33m.\u001b[0m\u001b[0mjoin\u001b[0m\u001b[1;33m(\u001b[0m\u001b[0mdst\u001b[0m\u001b[1;33m,\u001b[0m \u001b[0m_basename\u001b[0m\u001b[1;33m(\u001b[0m\u001b[0msrc\u001b[0m\u001b[1;33m)\u001b[0m\u001b[1;33m)\u001b[0m\u001b[1;33m\u001b[0m\u001b[0m\n\u001b[0;32m    554\u001b[0m         \u001b[1;32mif\u001b[0m \u001b[0mos\u001b[0m\u001b[1;33m.\u001b[0m\u001b[0mpath\u001b[0m\u001b[1;33m.\u001b[0m\u001b[0mexists\u001b[0m\u001b[1;33m(\u001b[0m\u001b[0mreal_dst\u001b[0m\u001b[1;33m)\u001b[0m\u001b[1;33m:\u001b[0m\u001b[1;33m\u001b[0m\u001b[0m\n\u001b[1;32m--> 555\u001b[1;33m             \u001b[1;32mraise\u001b[0m \u001b[0mError\u001b[0m\u001b[1;33m(\u001b[0m\u001b[1;34m\"Destination path '%s' already exists\"\u001b[0m \u001b[1;33m%\u001b[0m \u001b[0mreal_dst\u001b[0m\u001b[1;33m)\u001b[0m\u001b[1;33m\u001b[0m\u001b[0m\n\u001b[0m\u001b[0;32m    556\u001b[0m     \u001b[1;32mtry\u001b[0m\u001b[1;33m:\u001b[0m\u001b[1;33m\u001b[0m\u001b[0m\n\u001b[0;32m    557\u001b[0m         \u001b[0mos\u001b[0m\u001b[1;33m.\u001b[0m\u001b[0mrename\u001b[0m\u001b[1;33m(\u001b[0m\u001b[0msrc\u001b[0m\u001b[1;33m,\u001b[0m \u001b[0mreal_dst\u001b[0m\u001b[1;33m)\u001b[0m\u001b[1;33m\u001b[0m\u001b[0m\n",
      "\u001b[1;31mError\u001b[0m: Destination path '../data/raw/gender_submission.csv' already exists"
     ]
    }
   ],
   "source": [
    "import shutil\n",
    "import os\n",
    "\n",
    "source = './'\n",
    "dest1 = '../data/raw/'\n",
    "\n",
    "\n",
    "files = os.listdir(source)\n",
    "\n",
    "for f in files:\n",
    "    if(f.find('.csv') != -1):\n",
    "        shutil.move(source+f, dest1)            \n"
   ]
  },
  {
   "cell_type": "code",
   "execution_count": null,
   "metadata": {},
   "outputs": [],
   "source": []
  }
 ],
 "metadata": {
  "kernelspec": {
   "display_name": "Python 3",
   "language": "python",
   "name": "python3"
  },
  "language_info": {
   "codemirror_mode": {
    "name": "ipython",
    "version": 3
   },
   "file_extension": ".py",
   "mimetype": "text/x-python",
   "name": "python",
   "nbconvert_exporter": "python",
   "pygments_lexer": "ipython3",
   "version": "3.7.0"
  }
 },
 "nbformat": 4,
 "nbformat_minor": 2
}
